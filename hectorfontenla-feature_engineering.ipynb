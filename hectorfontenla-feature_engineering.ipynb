{
 "cells": [
  {
   "cell_type": "markdown",
   "id": "3a72dc37",
   "metadata": {},
   "source": [
    "# Lab | Feature engineering"
   ]
  },
  {
   "cell_type": "markdown",
   "id": "729222d6",
   "metadata": {},
   "source": [
    "## Instructions\n",
    "Here we will work on cleaning some of the other columns in the dataset using the techniques that we used before in the lessons.\n",
    "\n",
    "- Check for null values in the numerical columns.\n",
    "- Use appropriate methods to clean the columns WEALTH1, ADI, DMA,and MSA.\n",
    "- Use appropriate EDA technique where ever necessary."
   ]
  },
  {
   "cell_type": "markdown",
   "id": "429fd3e1",
   "metadata": {},
   "source": [
    "## Importing libraries"
   ]
  },
  {
   "cell_type": "code",
   "execution_count": 1,
   "id": "65f2eb6b",
   "metadata": {
    "ExecuteTime": {
     "end_time": "2022-05-09T12:58:11.144451Z",
     "start_time": "2022-05-09T12:58:08.681721Z"
    }
   },
   "outputs": [],
   "source": [
    "import pandas as pd\n",
    "import numpy as np\n",
    "import matplotlib.pyplot as plt\n",
    "import seaborn as sns \n",
    "pd.set_option('display.max_columns', None)#functions to avoid pandas displaying all columns"
   ]
  },
  {
   "cell_type": "markdown",
   "id": "4d468566",
   "metadata": {
    "ExecuteTime": {
     "end_time": "2022-05-09T12:44:37.400068Z",
     "start_time": "2022-05-09T12:44:37.395834Z"
    }
   },
   "source": [
    "## Reading the file to get the DataFrame"
   ]
  },
  {
   "cell_type": "code",
   "execution_count": 2,
   "id": "30a7a751",
   "metadata": {
    "ExecuteTime": {
     "end_time": "2022-05-09T12:58:19.164600Z",
     "start_time": "2022-05-09T12:58:11.147312Z"
    }
   },
   "outputs": [],
   "source": [
    "data = pd.read_csv('learningSet.csv', low_memory = False)"
   ]
  },
  {
   "cell_type": "markdown",
   "id": "4d13fdbc",
   "metadata": {},
   "source": [
    "## Check for null values in the numerical columns:"
   ]
  },
  {
   "cell_type": "markdown",
   "id": "3f42f4f1",
   "metadata": {},
   "source": [
    "### Getting the Numerical and Categorical variables:"
   ]
  },
  {
   "cell_type": "code",
   "execution_count": 3,
   "id": "9aa247c6",
   "metadata": {
    "ExecuteTime": {
     "end_time": "2022-05-09T12:58:19.179835Z",
     "start_time": "2022-05-09T12:58:19.167438Z"
    }
   },
   "outputs": [],
   "source": [
    "numerical = data.select_dtypes(include=[np.number])\n",
    "categorical = data.select_dtypes(include=[object])"
   ]
  },
  {
   "cell_type": "code",
   "execution_count": 4,
   "id": "6b57d3cc",
   "metadata": {
    "ExecuteTime": {
     "end_time": "2022-05-09T12:58:19.289393Z",
     "start_time": "2022-05-09T12:58:19.191763Z"
    }
   },
   "outputs": [
    {
     "data": {
      "text/html": [
       "<div>\n",
       "<style scoped>\n",
       "    .dataframe tbody tr th:only-of-type {\n",
       "        vertical-align: middle;\n",
       "    }\n",
       "\n",
       "    .dataframe tbody tr th {\n",
       "        vertical-align: top;\n",
       "    }\n",
       "\n",
       "    .dataframe thead th {\n",
       "        text-align: right;\n",
       "    }\n",
       "</style>\n",
       "<table border=\"1\" class=\"dataframe\">\n",
       "  <thead>\n",
       "    <tr style=\"text-align: right;\">\n",
       "      <th></th>\n",
       "      <th>column_name</th>\n",
       "      <th>nulls_percentage</th>\n",
       "    </tr>\n",
       "  </thead>\n",
       "  <tbody>\n",
       "    <tr>\n",
       "      <th>0</th>\n",
       "      <td>ODATEDW</td>\n",
       "      <td>0.000000</td>\n",
       "    </tr>\n",
       "    <tr>\n",
       "      <th>1</th>\n",
       "      <td>TCODE</td>\n",
       "      <td>0.000000</td>\n",
       "    </tr>\n",
       "    <tr>\n",
       "      <th>2</th>\n",
       "      <td>DOB</td>\n",
       "      <td>0.000000</td>\n",
       "    </tr>\n",
       "    <tr>\n",
       "      <th>3</th>\n",
       "      <td>AGE</td>\n",
       "      <td>0.248030</td>\n",
       "    </tr>\n",
       "    <tr>\n",
       "      <th>4</th>\n",
       "      <td>NUMCHLD</td>\n",
       "      <td>0.870184</td>\n",
       "    </tr>\n",
       "    <tr>\n",
       "      <th>...</th>\n",
       "      <td>...</td>\n",
       "      <td>...</td>\n",
       "    </tr>\n",
       "    <tr>\n",
       "      <th>402</th>\n",
       "      <td>TARGET_B</td>\n",
       "      <td>0.000000</td>\n",
       "    </tr>\n",
       "    <tr>\n",
       "      <th>403</th>\n",
       "      <td>TARGET_D</td>\n",
       "      <td>0.000000</td>\n",
       "    </tr>\n",
       "    <tr>\n",
       "      <th>404</th>\n",
       "      <td>HPHONE_D</td>\n",
       "      <td>0.000000</td>\n",
       "    </tr>\n",
       "    <tr>\n",
       "      <th>405</th>\n",
       "      <td>RFA_2F</td>\n",
       "      <td>0.000000</td>\n",
       "    </tr>\n",
       "    <tr>\n",
       "      <th>406</th>\n",
       "      <td>CLUSTER2</td>\n",
       "      <td>0.001383</td>\n",
       "    </tr>\n",
       "  </tbody>\n",
       "</table>\n",
       "<p>407 rows × 2 columns</p>\n",
       "</div>"
      ],
      "text/plain": [
       "    column_name  nulls_percentage\n",
       "0       ODATEDW          0.000000\n",
       "1         TCODE          0.000000\n",
       "2           DOB          0.000000\n",
       "3           AGE          0.248030\n",
       "4       NUMCHLD          0.870184\n",
       "..          ...               ...\n",
       "402    TARGET_B          0.000000\n",
       "403    TARGET_D          0.000000\n",
       "404    HPHONE_D          0.000000\n",
       "405      RFA_2F          0.000000\n",
       "406    CLUSTER2          0.001383\n",
       "\n",
       "[407 rows x 2 columns]"
      ]
     },
     "execution_count": 4,
     "metadata": {},
     "output_type": "execute_result"
    }
   ],
   "source": [
    "num_nulls_percent_df = pd.DataFrame(numerical.isna().sum()/len(numerical)).reset_index()\n",
    "num_nulls_percent_df.columns = ['column_name', 'nulls_percentage']\n",
    "\n",
    "num_nulls_percent_df"
   ]
  },
  {
   "cell_type": "markdown",
   "id": "e3b2b530",
   "metadata": {},
   "source": [
    "### Getting the percentage of NaN values per column"
   ]
  },
  {
   "cell_type": "code",
   "execution_count": 5,
   "id": "4b5c1259",
   "metadata": {
    "ExecuteTime": {
     "end_time": "2022-05-09T12:58:19.392519Z",
     "start_time": "2022-05-09T12:58:19.292655Z"
    }
   },
   "outputs": [
    {
     "data": {
      "text/html": [
       "<div>\n",
       "<style scoped>\n",
       "    .dataframe tbody tr th:only-of-type {\n",
       "        vertical-align: middle;\n",
       "    }\n",
       "\n",
       "    .dataframe tbody tr th {\n",
       "        vertical-align: top;\n",
       "    }\n",
       "\n",
       "    .dataframe thead th {\n",
       "        text-align: right;\n",
       "    }\n",
       "</style>\n",
       "<table border=\"1\" class=\"dataframe\">\n",
       "  <thead>\n",
       "    <tr style=\"text-align: right;\">\n",
       "      <th></th>\n",
       "      <th>column_name</th>\n",
       "      <th>nulls_percentage</th>\n",
       "    </tr>\n",
       "  </thead>\n",
       "  <tbody>\n",
       "    <tr>\n",
       "      <th>0</th>\n",
       "      <td>ODATEDW</td>\n",
       "      <td>0.000000</td>\n",
       "    </tr>\n",
       "    <tr>\n",
       "      <th>1</th>\n",
       "      <td>TCODE</td>\n",
       "      <td>0.000000</td>\n",
       "    </tr>\n",
       "    <tr>\n",
       "      <th>2</th>\n",
       "      <td>DOB</td>\n",
       "      <td>0.000000</td>\n",
       "    </tr>\n",
       "    <tr>\n",
       "      <th>3</th>\n",
       "      <td>AGE</td>\n",
       "      <td>0.248030</td>\n",
       "    </tr>\n",
       "    <tr>\n",
       "      <th>4</th>\n",
       "      <td>NUMCHLD</td>\n",
       "      <td>0.870184</td>\n",
       "    </tr>\n",
       "    <tr>\n",
       "      <th>...</th>\n",
       "      <td>...</td>\n",
       "      <td>...</td>\n",
       "    </tr>\n",
       "    <tr>\n",
       "      <th>402</th>\n",
       "      <td>TARGET_B</td>\n",
       "      <td>0.000000</td>\n",
       "    </tr>\n",
       "    <tr>\n",
       "      <th>403</th>\n",
       "      <td>TARGET_D</td>\n",
       "      <td>0.000000</td>\n",
       "    </tr>\n",
       "    <tr>\n",
       "      <th>404</th>\n",
       "      <td>HPHONE_D</td>\n",
       "      <td>0.000000</td>\n",
       "    </tr>\n",
       "    <tr>\n",
       "      <th>405</th>\n",
       "      <td>RFA_2F</td>\n",
       "      <td>0.000000</td>\n",
       "    </tr>\n",
       "    <tr>\n",
       "      <th>406</th>\n",
       "      <td>CLUSTER2</td>\n",
       "      <td>0.001383</td>\n",
       "    </tr>\n",
       "  </tbody>\n",
       "</table>\n",
       "<p>407 rows × 2 columns</p>\n",
       "</div>"
      ],
      "text/plain": [
       "    column_name  nulls_percentage\n",
       "0       ODATEDW          0.000000\n",
       "1         TCODE          0.000000\n",
       "2           DOB          0.000000\n",
       "3           AGE          0.248030\n",
       "4       NUMCHLD          0.870184\n",
       "..          ...               ...\n",
       "402    TARGET_B          0.000000\n",
       "403    TARGET_D          0.000000\n",
       "404    HPHONE_D          0.000000\n",
       "405      RFA_2F          0.000000\n",
       "406    CLUSTER2          0.001383\n",
       "\n",
       "[407 rows x 2 columns]"
      ]
     },
     "execution_count": 5,
     "metadata": {},
     "output_type": "execute_result"
    }
   ],
   "source": [
    "cat_nulls_percent_df = pd.DataFrame(numerical.isna().sum()/len(numerical)).reset_index()\n",
    "cat_nulls_percent_df.columns = ['column_name', 'nulls_percentage']\n",
    "\n",
    "cat_nulls_percent_df"
   ]
  },
  {
   "cell_type": "markdown",
   "id": "2f57f2f5",
   "metadata": {},
   "source": [
    "## Use appropriate methods to clean the columns WEALTH1, ADI, DMA and MSA:"
   ]
  },
  {
   "cell_type": "markdown",
   "id": "e6c4d094",
   "metadata": {},
   "source": [
    "### Let's filter out the columns on the NaN DataFrame to get the density per variable:"
   ]
  },
  {
   "cell_type": "code",
   "execution_count": 6,
   "id": "e3ad026f",
   "metadata": {
    "ExecuteTime": {
     "end_time": "2022-05-09T12:58:19.413027Z",
     "start_time": "2022-05-09T12:58:19.395589Z"
    }
   },
   "outputs": [
    {
     "data": {
      "text/html": [
       "<div>\n",
       "<style scoped>\n",
       "    .dataframe tbody tr th:only-of-type {\n",
       "        vertical-align: middle;\n",
       "    }\n",
       "\n",
       "    .dataframe tbody tr th {\n",
       "        vertical-align: top;\n",
       "    }\n",
       "\n",
       "    .dataframe thead th {\n",
       "        text-align: right;\n",
       "    }\n",
       "</style>\n",
       "<table border=\"1\" class=\"dataframe\">\n",
       "  <thead>\n",
       "    <tr style=\"text-align: right;\">\n",
       "      <th></th>\n",
       "      <th>column_name</th>\n",
       "      <th>nulls_percentage</th>\n",
       "    </tr>\n",
       "  </thead>\n",
       "  <tbody>\n",
       "    <tr>\n",
       "      <th>6</th>\n",
       "      <td>WEALTH1</td>\n",
       "      <td>0.468830</td>\n",
       "    </tr>\n",
       "    <tr>\n",
       "      <th>150</th>\n",
       "      <td>MSA</td>\n",
       "      <td>0.001383</td>\n",
       "    </tr>\n",
       "    <tr>\n",
       "      <th>151</th>\n",
       "      <td>ADI</td>\n",
       "      <td>0.001383</td>\n",
       "    </tr>\n",
       "    <tr>\n",
       "      <th>152</th>\n",
       "      <td>DMA</td>\n",
       "      <td>0.001383</td>\n",
       "    </tr>\n",
       "  </tbody>\n",
       "</table>\n",
       "</div>"
      ],
      "text/plain": [
       "    column_name  nulls_percentage\n",
       "6       WEALTH1          0.468830\n",
       "150         MSA          0.001383\n",
       "151         ADI          0.001383\n",
       "152         DMA          0.001383"
      ]
     },
     "execution_count": 6,
     "metadata": {},
     "output_type": "execute_result"
    }
   ],
   "source": [
    "cat_nulls_percent_df[cat_nulls_percent_df['column_name'].isin(['WEALTH1', 'ADI', 'DMA', 'MSA'])]"
   ]
  },
  {
   "cell_type": "markdown",
   "id": "484a0e0f",
   "metadata": {},
   "source": [
    "**WEALTH1** has a high density of NaN. Let's have a look more deeply into this column:"
   ]
  },
  {
   "cell_type": "markdown",
   "id": "eee205d1",
   "metadata": {},
   "source": [
    "### Check the value counts, including NaNs"
   ]
  },
  {
   "cell_type": "code",
   "execution_count": 7,
   "id": "cbde27c3",
   "metadata": {
    "ExecuteTime": {
     "end_time": "2022-05-09T12:58:19.445055Z",
     "start_time": "2022-05-09T12:58:19.421882Z"
    }
   },
   "outputs": [
    {
     "data": {
      "text/plain": [
       "NaN    44732\n",
       "9.0     7585\n",
       "8.0     6793\n",
       "7.0     6198\n",
       "6.0     5825\n",
       "5.0     5280\n",
       "4.0     4810\n",
       "3.0     4237\n",
       "2.0     4085\n",
       "1.0     3454\n",
       "0.0     2413\n",
       "Name: WEALTH1, dtype: int64"
      ]
     },
     "execution_count": 7,
     "metadata": {},
     "output_type": "execute_result"
    }
   ],
   "source": [
    "numerical['WEALTH1'].value_counts(dropna = False)"
   ]
  },
  {
   "cell_type": "markdown",
   "id": "e42e04e5",
   "metadata": {},
   "source": [
    "The column has a very high value of NaN, at this point we could drop it. because any alteration we will make would drastically alter the distribution, nonetheless we will keep going."
   ]
  },
  {
   "cell_type": "markdown",
   "id": "7d1de8cb",
   "metadata": {},
   "source": [
    "### Plotting the distribution"
   ]
  },
  {
   "cell_type": "code",
   "execution_count": 8,
   "id": "3f51ab4e",
   "metadata": {
    "ExecuteTime": {
     "end_time": "2022-05-09T12:58:19.961470Z",
     "start_time": "2022-05-09T12:58:19.452865Z"
    }
   },
   "outputs": [
    {
     "data": {
      "image/png": "[encoded data removed]",
      "text/plain": [
       "<Figure size 432x288 with 1 Axes>"
      ]
     },
     "metadata": {
      "needs_background": "light"
     },
     "output_type": "display_data"
    }
   ],
   "source": [
    "sns.histplot(numerical[numerical['WEALTH1'].notna()]['WEALTH1'])\n",
    "plt.show()"
   ]
  },
  {
   "cell_type": "markdown",
   "id": "78d5fa3e",
   "metadata": {},
   "source": [
    "We can see that **WEALTH1** is actually a Categorical column, let's replace the null values of the column with its Mode.\n",
    "    "
   ]
  },
  {
   "cell_type": "markdown",
   "id": "23be9702",
   "metadata": {},
   "source": [
    "### Finding the Mean of the column and storing it in a variable:"
   ]
  },
  {
   "cell_type": "code",
   "execution_count": 9,
   "id": "7ae7232d",
   "metadata": {
    "ExecuteTime": {
     "end_time": "2022-05-09T12:58:19.970060Z",
     "start_time": "2022-05-09T12:58:19.964100Z"
    }
   },
   "outputs": [],
   "source": [
    "m = numerical['WEALTH1'].mode()[0]"
   ]
  },
  {
   "cell_type": "markdown",
   "id": "6dd85822",
   "metadata": {},
   "source": [
    "### Replacing the NaN values for the Mode of the column:"
   ]
  },
  {
   "cell_type": "code",
   "execution_count": 10,
   "id": "271d292b",
   "metadata": {
    "ExecuteTime": {
     "end_time": "2022-05-09T12:58:20.031650Z",
     "start_time": "2022-05-09T12:58:19.980578Z"
    }
   },
   "outputs": [],
   "source": [
    "numerical['WEALTH1'] = numerical['WEALTH1'].fillna(m)"
   ]
  },
  {
   "cell_type": "code",
   "execution_count": 11,
   "id": "132041b7",
   "metadata": {
    "ExecuteTime": {
     "end_time": "2022-05-09T12:58:20.299477Z",
     "start_time": "2022-05-09T12:58:20.034314Z"
    }
   },
   "outputs": [
    {
     "data": {
      "image/png": "[encoded data removed]",
      "text/plain": [
       "<Figure size 432x288 with 1 Axes>"
      ]
     },
     "metadata": {
      "needs_background": "light"
     },
     "output_type": "display_data"
    }
   ],
   "source": [
    "sns.histplot(numerical['WEALTH1'])\n",
    "plt.show()"
   ]
  },
  {
   "cell_type": "markdown",
   "id": "47992e8f",
   "metadata": {
    "ExecuteTime": {
     "end_time": "2022-05-09T13:02:36.516117Z",
     "start_time": "2022-05-09T13:02:36.509018Z"
    }
   },
   "source": [
    "As we can see, by replacing the NaN by the Mode, we drastically changed the distribution of the column. "
   ]
  },
  {
   "cell_type": "markdown",
   "id": "ff218693",
   "metadata": {},
   "source": [
    "## Let's check ADI now:"
   ]
  },
  {
   "cell_type": "code",
   "execution_count": 12,
   "id": "8fc6c7a4",
   "metadata": {
    "ExecuteTime": {
     "end_time": "2022-05-09T12:58:20.318748Z",
     "start_time": "2022-05-09T12:58:20.303559Z"
    }
   },
   "outputs": [
    {
     "data": {
      "text/plain": [
       "132"
      ]
     },
     "execution_count": 12,
     "metadata": {},
     "output_type": "execute_result"
    }
   ],
   "source": [
    "numerical['ADI'].isna().sum()"
   ]
  },
  {
   "cell_type": "markdown",
   "id": "6b923e02",
   "metadata": {},
   "source": [
    "The number of NaN values is very low, we will plot the distribution in 3 different ways:\n",
    "- Original distribution, including NaN values\n",
    "- Distribution with NaN values replaced with Mean\n",
    "- Distribution with NaN values replaced with Median"
   ]
  },
  {
   "cell_type": "code",
   "execution_count": 17,
   "id": "297a9a72",
   "metadata": {
    "ExecuteTime": {
     "end_time": "2022-05-09T13:03:43.783736Z",
     "start_time": "2022-05-09T13:03:42.450640Z"
    }
   },
   "outputs": [
    {
     "data": {
      "image/png": "[encoded data removed]",
      "text/plain": [
       "<Figure size 1152x360 with 3 Axes>"
      ]
     },
     "metadata": {
      "needs_background": "light"
     },
     "output_type": "display_data"
    }
   ],
   "source": [
    "fig, ax = plt.subplots(1,3,figsize=(16,5))\n",
    "sns.histplot(numerical['ADI'], ax = ax[0])\n",
    "sns.histplot(numerical[\"ADI\"].fillna(np.mean(numerical[numerical['ADI'].notna()]['ADI'])), ax = ax[1])\n",
    "sns.histplot(numerical['ADI'].fillna(np.median(numerical[numerical['ADI'].notna()]['ADI'])),ax = ax[2])\n",
    "plt.show()"
   ]
  },
  {
   "cell_type": "markdown",
   "id": "2d3273dd",
   "metadata": {},
   "source": [
    "We can observe that the distribution does not change much in any case, so we will apply the Mean on those NaNs:"
   ]
  },
  {
   "cell_type": "code",
   "execution_count": 18,
   "id": "a4524180",
   "metadata": {
    "ExecuteTime": {
     "end_time": "2022-05-09T13:03:51.141093Z",
     "start_time": "2022-05-09T13:03:51.083484Z"
    }
   },
   "outputs": [],
   "source": [
    "numerical['ADI'] = numerical[\"ADI\"].fillna(np.median(numerical['ADI']))"
   ]
  },
  {
   "cell_type": "raw",
   "id": "6cb2e16f",
   "metadata": {},
   "source": [
    "Since the other 2 remaining columns contain the same number of NaNs, we will replace their NaNs with their Mean:"
   ]
  },
  {
   "cell_type": "code",
   "execution_count": 15,
   "id": "eb4175c4",
   "metadata": {
    "ExecuteTime": {
     "end_time": "2022-05-09T12:58:21.778682Z",
     "start_time": "2022-05-09T12:58:21.724612Z"
    }
   },
   "outputs": [],
   "source": [
    "numerical['DMA'] = numerical[\"DMA\"].fillna(np.median(numerical['DMA']))\n",
    "numerical['MSA'] = numerical[\"MSA\"].fillna(np.median(numerical['MSA']))"
   ]
  }
 ],
 "metadata": {
  "kernelspec": {
   "display_name": "Python 3 (ipykernel)",
   "language": "python",
   "name": "python3"
  },
  "language_info": {
   "codemirror_mode": {
    "name": "ipython",
    "version": 3
   },
   "file_extension": ".py",
   "mimetype": "text/x-python",
   "name": "python",
   "nbconvert_exporter": "python",
   "pygments_lexer": "ipython3",
   "version": "3.9.12"
  },
  "toc": {
   "base_numbering": 1,
   "nav_menu": {},
   "number_sections": true,
   "sideBar": true,
   "skip_h1_title": false,
   "title_cell": "Table of Contents",
   "title_sidebar": "Contents",
   "toc_cell": false,
   "toc_position": {},
   "toc_section_display": true,
   "toc_window_display": false
  }
 },
 "nbformat": 4,
 "nbformat_minor": 5
}
